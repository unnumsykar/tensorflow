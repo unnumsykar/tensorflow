{
  "nbformat": 4,
  "nbformat_minor": 0,
  "metadata": {
    "colab": {
      "name": "rnn_lstm_gru.ipynb",
      "provenance": [],
      "collapsed_sections": []
    },
    "kernelspec": {
      "name": "python3",
      "display_name": "Python 3"
    },
    "language_info": {
      "name": "python"
    },
    "accelerator": "GPU"
  },
  "cells": [
    {
      "cell_type": "code",
      "execution_count": 4,
      "metadata": {
        "id": "Qxkb5gjErQE-"
      },
      "outputs": [],
      "source": [
        "import tensorflow as tf\n",
        "from tensorflow import keras\n",
        "from tensorflow.keras import layers\n",
        "from tensorflow.keras.datasets import mnist\n",
        "from tensorflow.python.ops.gen_array_ops import shape"
      ]
    },
    {
      "cell_type": "code",
      "source": [
        "(x_train,y_train),(x_test,y_test) = mnist.load_data()"
      ],
      "metadata": {
        "id": "HVX74sPRv0Vq"
      },
      "execution_count": 5,
      "outputs": []
    },
    {
      "cell_type": "code",
      "source": [
        "x_train = x_train.astype(\"float32\") / 255.0\n",
        "x_test = x_test.astype(\"float32\") / 255.0"
      ],
      "metadata": {
        "id": "FrbmJDs5wFhh"
      },
      "execution_count": 6,
      "outputs": []
    },
    {
      "cell_type": "code",
      "source": [
        "\n",
        "model = keras.Sequential()\n",
        "model.add(keras.Input(shape=(None,28)))\n",
        "model.add(\n",
        "    layers.SimpleRNN(256,return_sequences=True,activation='tanh')\n",
        ")\n",
        "model.add(layers.SimpleRNN(256,activation='tanh'))\n",
        "model.add(layers.Dense(10))"
      ],
      "metadata": {
        "id": "9Jl2FRlmwg7e"
      },
      "execution_count": 12,
      "outputs": []
    },
    {
      "cell_type": "code",
      "source": [
        "model.summary()"
      ],
      "metadata": {
        "colab": {
          "base_uri": "https://localhost:8080/"
        },
        "id": "y98OTf_ixO9H",
        "outputId": "bd997ba8-ee3d-4eb6-c723-425b6958189d"
      },
      "execution_count": 13,
      "outputs": [
        {
          "output_type": "stream",
          "name": "stdout",
          "text": [
            "Model: \"sequential_2\"\n",
            "_________________________________________________________________\n",
            " Layer (type)                Output Shape              Param #   \n",
            "=================================================================\n",
            " simple_rnn_4 (SimpleRNN)    (None, None, 256)         72960     \n",
            "                                                                 \n",
            " simple_rnn_5 (SimpleRNN)    (None, 256)               131328    \n",
            "                                                                 \n",
            " dense_2 (Dense)             (None, 10)                2570      \n",
            "                                                                 \n",
            "=================================================================\n",
            "Total params: 206,858\n",
            "Trainable params: 206,858\n",
            "Non-trainable params: 0\n",
            "_________________________________________________________________\n"
          ]
        }
      ]
    },
    {
      "cell_type": "code",
      "source": [
        "model.compile(\n",
        "    loss = keras.losses.SparseCategoricalCrossentropy(from_logits=True),\n",
        "    optimizer=keras.optimizers.Adam(lr=0.001),\n",
        "    metrics=[\"accuracy\"]\n",
        ")"
      ],
      "metadata": {
        "colab": {
          "base_uri": "https://localhost:8080/"
        },
        "id": "hXXTXlShxSjP",
        "outputId": "2ffd908d-9e5a-40b4-fc0d-49a4c7bdba78"
      },
      "execution_count": 14,
      "outputs": [
        {
          "output_type": "stream",
          "name": "stderr",
          "text": [
            "/usr/local/lib/python3.7/dist-packages/keras/optimizer_v2/adam.py:105: UserWarning: The `lr` argument is deprecated, use `learning_rate` instead.\n",
            "  super(Adam, self).__init__(name, **kwargs)\n"
          ]
        }
      ]
    },
    {
      "cell_type": "code",
      "source": [
        "model.fit(x_train,y_train,batch_size=64,epochs=10,verbose=2)\n"
      ],
      "metadata": {
        "colab": {
          "base_uri": "https://localhost:8080/"
        },
        "id": "GGm8Sk8MxvyN",
        "outputId": "b4e23fea-17de-4c86-e1de-534c81acc34c"
      },
      "execution_count": 15,
      "outputs": [
        {
          "output_type": "stream",
          "name": "stdout",
          "text": [
            "Epoch 1/10\n",
            "938/938 - 45s - loss: 0.3183 - accuracy: 0.9033 - 45s/epoch - 48ms/step\n",
            "Epoch 2/10\n",
            "938/938 - 44s - loss: 0.1865 - accuracy: 0.9456 - 44s/epoch - 47ms/step\n",
            "Epoch 3/10\n",
            "938/938 - 44s - loss: 0.1589 - accuracy: 0.9541 - 44s/epoch - 47ms/step\n",
            "Epoch 4/10\n",
            "938/938 - 43s - loss: 0.1497 - accuracy: 0.9568 - 43s/epoch - 46ms/step\n",
            "Epoch 5/10\n",
            "938/938 - 43s - loss: 0.1429 - accuracy: 0.9589 - 43s/epoch - 45ms/step\n",
            "Epoch 6/10\n",
            "938/938 - 42s - loss: 0.1509 - accuracy: 0.9561 - 42s/epoch - 45ms/step\n",
            "Epoch 7/10\n",
            "938/938 - 42s - loss: 0.1408 - accuracy: 0.9596 - 42s/epoch - 45ms/step\n",
            "Epoch 8/10\n",
            "938/938 - 42s - loss: 0.1242 - accuracy: 0.9644 - 42s/epoch - 45ms/step\n",
            "Epoch 9/10\n",
            "938/938 - 42s - loss: 0.1333 - accuracy: 0.9628 - 42s/epoch - 45ms/step\n",
            "Epoch 10/10\n",
            "938/938 - 42s - loss: 0.1305 - accuracy: 0.9629 - 42s/epoch - 45ms/step\n"
          ]
        },
        {
          "output_type": "execute_result",
          "data": {
            "text/plain": [
              "<keras.callbacks.History at 0x7f55d2c0fb50>"
            ]
          },
          "metadata": {},
          "execution_count": 15
        }
      ]
    },
    {
      "cell_type": "code",
      "source": [
        "model.evaluate(x_test,y_test,batch_size=64,verbose=2)"
      ],
      "metadata": {
        "colab": {
          "base_uri": "https://localhost:8080/"
        },
        "id": "CUmedXZKx4Bi",
        "outputId": "53645f3a-489f-48c1-e350-ca055ff1a2ab"
      },
      "execution_count": 16,
      "outputs": [
        {
          "output_type": "stream",
          "name": "stdout",
          "text": [
            "157/157 - 1s - loss: 0.1654 - accuracy: 0.9546 - 1s/epoch - 8ms/step\n"
          ]
        },
        {
          "output_type": "execute_result",
          "data": {
            "text/plain": [
              "[0.16541887819766998, 0.9545999765396118]"
            ]
          },
          "metadata": {},
          "execution_count": 16
        }
      ]
    }
  ]
}