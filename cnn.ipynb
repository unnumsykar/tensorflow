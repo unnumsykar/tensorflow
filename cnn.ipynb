{
  "nbformat": 4,
  "nbformat_minor": 0,
  "metadata": {
    "colab": {
      "name": "cnn.ipynb",
      "provenance": [],
      "collapsed_sections": []
    },
    "kernelspec": {
      "name": "python3",
      "display_name": "Python 3"
    },
    "language_info": {
      "name": "python"
    },
    "accelerator": "GPU"
  },
  "cells": [
    {
      "cell_type": "code",
      "execution_count": 1,
      "metadata": {
        "id": "KbUJilufBsCM"
      },
      "outputs": [],
      "source": [
        "import tensorflow as tf\n",
        "from tensorflow import keras\n",
        "from tensorflow.keras import layers\n",
        "from tensorflow.keras.datasets import cifar10"
      ]
    },
    {
      "cell_type": "code",
      "source": [
        "(x_train,y_train), (x_test,y_test) = cifar10.load_data()"
      ],
      "metadata": {
        "colab": {
          "base_uri": "https://localhost:8080/"
        },
        "id": "pKIoaT__DPD2",
        "outputId": "6a5defe5-565e-49df-8a10-f67aeb77b828"
      },
      "execution_count": 3,
      "outputs": [
        {
          "output_type": "stream",
          "name": "stdout",
          "text": [
            "Downloading data from https://www.cs.toronto.edu/~kriz/cifar-10-python.tar.gz\n",
            "170500096/170498071 [==============================] - 8s 0us/step\n",
            "170508288/170498071 [==============================] - 8s 0us/step\n"
          ]
        }
      ]
    },
    {
      "cell_type": "code",
      "source": [
        "x_train = x_train.astype(\"float32\") / 255.0\n",
        "x_test = x_test.astype(\"float32\") / 255.0"
      ],
      "metadata": {
        "id": "OzyGry9YD-aI"
      },
      "execution_count": 4,
      "outputs": []
    },
    {
      "cell_type": "markdown",
      "source": [
        "sequential model"
      ],
      "metadata": {
        "id": "UDqsPIcsJX-r"
      }
    },
    {
      "cell_type": "code",
      "source": [
        "model = keras.Sequential(\n",
        "    [\n",
        "     keras.Input(shape=(32,32,3)),\n",
        "     layers.Conv2D(32,3,padding='valid',activation='relu'),\n",
        "     layers.MaxPooling2D(pool_size=(2,2)),\n",
        "     layers.Conv2D(64,3,activation='relu'),\n",
        "     layers.MaxPooling2D(),\n",
        "     layers.Conv2D(128,3,activation='relu'),\n",
        "     layers.Flatten(),\n",
        "     layers.Dense(64,activation='relu'),\n",
        "     layers.Dense(10),\n",
        "    ]\n",
        ")"
      ],
      "metadata": {
        "id": "-DhEFg31EPnQ"
      },
      "execution_count": 9,
      "outputs": []
    },
    {
      "cell_type": "code",
      "source": [
        "model.summary()"
      ],
      "metadata": {
        "colab": {
          "base_uri": "https://localhost:8080/"
        },
        "id": "cKqDcmWwEveK",
        "outputId": "9326958c-e10c-4f9b-c04c-a996405fa09a"
      },
      "execution_count": 10,
      "outputs": [
        {
          "output_type": "stream",
          "name": "stdout",
          "text": [
            "Model: \"sequential_1\"\n",
            "_________________________________________________________________\n",
            " Layer (type)                Output Shape              Param #   \n",
            "=================================================================\n",
            " conv2d_4 (Conv2D)           (None, 30, 30, 32)        896       \n",
            "                                                                 \n",
            " max_pooling2d_3 (MaxPooling  (None, 15, 15, 32)       0         \n",
            " 2D)                                                             \n",
            "                                                                 \n",
            " conv2d_5 (Conv2D)           (None, 13, 13, 64)        18496     \n",
            "                                                                 \n",
            " max_pooling2d_4 (MaxPooling  (None, 6, 6, 64)         0         \n",
            " 2D)                                                             \n",
            "                                                                 \n",
            " conv2d_6 (Conv2D)           (None, 4, 4, 128)         73856     \n",
            "                                                                 \n",
            " flatten_1 (Flatten)         (None, 2048)              0         \n",
            "                                                                 \n",
            " dense (Dense)               (None, 64)                131136    \n",
            "                                                                 \n",
            " dense_1 (Dense)             (None, 10)                650       \n",
            "                                                                 \n",
            "=================================================================\n",
            "Total params: 225,034\n",
            "Trainable params: 225,034\n",
            "Non-trainable params: 0\n",
            "_________________________________________________________________\n"
          ]
        }
      ]
    },
    {
      "cell_type": "code",
      "source": [
        "model.compile(\n",
        "    loss = keras.losses.SparseCategoricalCrossentropy(from_logits=True),\n",
        "    optimizer=keras.optimizers.Adam(lr=3e-4),\n",
        "    metrics=['accuracy'],\n",
        ")"
      ],
      "metadata": {
        "colab": {
          "base_uri": "https://localhost:8080/"
        },
        "id": "sicO6E9jE1Dz",
        "outputId": "5ba1ae71-ef85-4e45-c513-6da06069430e"
      },
      "execution_count": 11,
      "outputs": [
        {
          "output_type": "stream",
          "name": "stderr",
          "text": [
            "/usr/local/lib/python3.7/dist-packages/keras/optimizer_v2/adam.py:105: UserWarning: The `lr` argument is deprecated, use `learning_rate` instead.\n",
            "  super(Adam, self).__init__(name, **kwargs)\n"
          ]
        }
      ]
    },
    {
      "cell_type": "code",
      "source": [
        "model.fit(x_train,y_train,batch_size=64,epochs=10,verbose=2)"
      ],
      "metadata": {
        "colab": {
          "base_uri": "https://localhost:8080/"
        },
        "id": "I8Eg7eg8Fs3k",
        "outputId": "00e9128b-bb91-46c2-9846-3bfd1de83c92"
      },
      "execution_count": 12,
      "outputs": [
        {
          "output_type": "stream",
          "name": "stdout",
          "text": [
            "Epoch 1/10\n",
            "782/782 - 16s - loss: 1.6834 - accuracy: 0.3848 - 16s/epoch - 20ms/step\n",
            "Epoch 2/10\n",
            "782/782 - 6s - loss: 1.3594 - accuracy: 0.5113 - 6s/epoch - 7ms/step\n",
            "Epoch 3/10\n",
            "782/782 - 6s - loss: 1.2364 - accuracy: 0.5618 - 6s/epoch - 7ms/step\n",
            "Epoch 4/10\n",
            "782/782 - 5s - loss: 1.1372 - accuracy: 0.6035 - 5s/epoch - 7ms/step\n",
            "Epoch 5/10\n",
            "782/782 - 5s - loss: 1.0613 - accuracy: 0.6316 - 5s/epoch - 7ms/step\n",
            "Epoch 6/10\n",
            "782/782 - 6s - loss: 0.9999 - accuracy: 0.6530 - 6s/epoch - 7ms/step\n",
            "Epoch 7/10\n",
            "782/782 - 5s - loss: 0.9453 - accuracy: 0.6752 - 5s/epoch - 7ms/step\n",
            "Epoch 8/10\n",
            "782/782 - 5s - loss: 0.8976 - accuracy: 0.6914 - 5s/epoch - 7ms/step\n",
            "Epoch 9/10\n",
            "782/782 - 5s - loss: 0.8580 - accuracy: 0.7058 - 5s/epoch - 7ms/step\n",
            "Epoch 10/10\n",
            "782/782 - 5s - loss: 0.8176 - accuracy: 0.7192 - 5s/epoch - 7ms/step\n"
          ]
        },
        {
          "output_type": "execute_result",
          "data": {
            "text/plain": [
              "<keras.callbacks.History at 0x7f49b0d0fed0>"
            ]
          },
          "metadata": {},
          "execution_count": 12
        }
      ]
    },
    {
      "cell_type": "code",
      "source": [
        "model.evaluate(x_test,y_test,batch_size=64,verbose=2)"
      ],
      "metadata": {
        "colab": {
          "base_uri": "https://localhost:8080/"
        },
        "id": "uzegCP-vGDFM",
        "outputId": "1b94bafe-86fc-4266-e4d7-b88df33f4930"
      },
      "execution_count": 13,
      "outputs": [
        {
          "output_type": "stream",
          "name": "stdout",
          "text": [
            "157/157 - 1s - loss: 0.8897 - accuracy: 0.6954 - 807ms/epoch - 5ms/step\n"
          ]
        },
        {
          "output_type": "execute_result",
          "data": {
            "text/plain": [
              "[0.889670193195343, 0.6953999996185303]"
            ]
          },
          "metadata": {},
          "execution_count": 13
        }
      ]
    },
    {
      "cell_type": "markdown",
      "source": [
        "functional model"
      ],
      "metadata": {
        "id": "M5vvS3fHJTbT"
      }
    },
    {
      "cell_type": "code",
      "source": [
        "def my_model():\n",
        "  inputs = keras.Input(shape=(32,32,3))\n",
        "  x = layers.Conv2D(32,3)(inputs)\n",
        "  x = layers.BatchNormalization()(x)\n",
        "  x = keras.activations.relu(x)\n",
        "  x = layers.MaxPooling2D()(x)\n",
        "  x = layers.Conv2D(64,5,padding='same')(x)\n",
        "  x = layers.BatchNormalization()(x)\n",
        "  x = keras.activations.relu(x)\n",
        "  x = layers.Conv2D(128,3)(x)\n",
        "  x = layers.BatchNormalization()(x)\n",
        "  x = keras.activations.relu(x)\n",
        "  x = layers.Flatten()(x)\n",
        "  x = layers.Dense(64,activation='relu')(x)\n",
        "  outputs = layers.Dense(10)(x)\n",
        "  model = keras.Model(inputs=inputs,outputs=outputs)\n",
        "  return model"
      ],
      "metadata": {
        "id": "cSUWVDMAGqLY"
      },
      "execution_count": 20,
      "outputs": []
    },
    {
      "cell_type": "code",
      "source": [
        "model = my_model()"
      ],
      "metadata": {
        "id": "Nmz8KGt0IOgp"
      },
      "execution_count": 21,
      "outputs": []
    },
    {
      "cell_type": "code",
      "source": [
        "model.compile(\n",
        "    loss = keras.losses.SparseCategoricalCrossentropy(from_logits=True),\n",
        "    optimizer=keras.optimizers.Adam(lr=3e-4),\n",
        "    metrics=['accuracy'],\n",
        ")"
      ],
      "metadata": {
        "colab": {
          "base_uri": "https://localhost:8080/"
        },
        "id": "moIhL76QJGVh",
        "outputId": "de44c9f2-7570-4ab5-c06f-5827199679ba"
      },
      "execution_count": 22,
      "outputs": [
        {
          "output_type": "stream",
          "name": "stderr",
          "text": [
            "/usr/local/lib/python3.7/dist-packages/keras/optimizer_v2/adam.py:105: UserWarning: The `lr` argument is deprecated, use `learning_rate` instead.\n",
            "  super(Adam, self).__init__(name, **kwargs)\n"
          ]
        }
      ]
    },
    {
      "cell_type": "code",
      "source": [
        "model.fit(x_train,y_train,batch_size=64,epochs=10,verbose=2)"
      ],
      "metadata": {
        "colab": {
          "base_uri": "https://localhost:8080/"
        },
        "id": "t6G2gEH6JJfl",
        "outputId": "1d585064-624b-48c7-9b1e-c618e54e8d92"
      },
      "execution_count": 23,
      "outputs": [
        {
          "output_type": "stream",
          "name": "stdout",
          "text": [
            "Epoch 1/10\n",
            "782/782 - 10s - loss: 1.4026 - accuracy: 0.5020 - 10s/epoch - 13ms/step\n",
            "Epoch 2/10\n",
            "782/782 - 9s - loss: 0.9360 - accuracy: 0.6703 - 9s/epoch - 12ms/step\n",
            "Epoch 3/10\n",
            "782/782 - 9s - loss: 0.7585 - accuracy: 0.7338 - 9s/epoch - 12ms/step\n",
            "Epoch 4/10\n",
            "782/782 - 9s - loss: 0.6428 - accuracy: 0.7765 - 9s/epoch - 12ms/step\n",
            "Epoch 5/10\n",
            "782/782 - 9s - loss: 0.5541 - accuracy: 0.8046 - 9s/epoch - 12ms/step\n",
            "Epoch 6/10\n",
            "782/782 - 9s - loss: 0.4756 - accuracy: 0.8350 - 9s/epoch - 12ms/step\n",
            "Epoch 7/10\n",
            "782/782 - 9s - loss: 0.4058 - accuracy: 0.8597 - 9s/epoch - 12ms/step\n",
            "Epoch 8/10\n",
            "782/782 - 9s - loss: 0.3441 - accuracy: 0.8827 - 9s/epoch - 12ms/step\n",
            "Epoch 9/10\n",
            "782/782 - 9s - loss: 0.2831 - accuracy: 0.9050 - 9s/epoch - 12ms/step\n",
            "Epoch 10/10\n",
            "782/782 - 9s - loss: 0.2362 - accuracy: 0.9212 - 9s/epoch - 12ms/step\n"
          ]
        },
        {
          "output_type": "execute_result",
          "data": {
            "text/plain": [
              "<keras.callbacks.History at 0x7f49a015de10>"
            ]
          },
          "metadata": {},
          "execution_count": 23
        }
      ]
    },
    {
      "cell_type": "code",
      "source": [
        "model.evaluate(x_test,y_test,batch_size=64,verbose=2)"
      ],
      "metadata": {
        "colab": {
          "base_uri": "https://localhost:8080/"
        },
        "id": "cHwd6WaFJOWT",
        "outputId": "5b07e084-b806-4fd7-e2f0-dab073329412"
      },
      "execution_count": 24,
      "outputs": [
        {
          "output_type": "stream",
          "name": "stdout",
          "text": [
            "157/157 - 1s - loss: 1.1645 - accuracy: 0.6841 - 1s/epoch - 7ms/step\n"
          ]
        },
        {
          "output_type": "execute_result",
          "data": {
            "text/plain": [
              "[1.1644723415374756, 0.6840999722480774]"
            ]
          },
          "metadata": {},
          "execution_count": 24
        }
      ]
    }
  ]
}