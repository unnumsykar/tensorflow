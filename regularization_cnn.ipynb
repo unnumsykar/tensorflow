{
  "nbformat": 4,
  "nbformat_minor": 0,
  "metadata": {
    "colab": {
      "name": "regularization_cnn.ipynb",
      "provenance": [],
      "collapsed_sections": []
    },
    "kernelspec": {
      "name": "python3",
      "display_name": "Python 3"
    },
    "language_info": {
      "name": "python"
    },
    "accelerator": "GPU"
  },
  "cells": [
    {
      "cell_type": "code",
      "execution_count": 5,
      "metadata": {
        "id": "eH_D5pQVm26S"
      },
      "outputs": [],
      "source": [
        "import tensorflow as tf\n",
        "from tensorflow import keras\n",
        "from tensorflow.keras import layers, regularizers\n",
        "from tensorflow.keras.datasets import cifar10"
      ]
    },
    {
      "cell_type": "code",
      "source": [
        "(x_train,y_train), (x_test,y_test) = cifar10.load_data()"
      ],
      "metadata": {
        "id": "XNvlSRx1nK8o"
      },
      "execution_count": 6,
      "outputs": []
    },
    {
      "cell_type": "code",
      "source": [
        "x_train = x_train.astype(\"float32\") / 255.0\n",
        "x_test = x_test.astype(\"float32\") / 255.0"
      ],
      "metadata": {
        "id": "m_tROYcBnLkP"
      },
      "execution_count": 7,
      "outputs": []
    },
    {
      "cell_type": "code",
      "source": [
        "def my_model():\n",
        "  inputs = keras.Input(shape=(32,32,3))\n",
        "  x = layers.Conv2D(\n",
        "      32,3, padding='same',kernel_regularizer=regularizers.l2(0.01), # l2 regularizer\n",
        "      )(inputs)\n",
        "  x = layers.BatchNormalization()(x)\n",
        "  x = keras.activations.relu(x)\n",
        "  x = layers.MaxPooling2D()(x)\n",
        "  x = layers.Conv2D(\n",
        "      64,3,padding='same',kernel_regularizer=regularizers.l2(0.01),\n",
        "      )(x)\n",
        "  x = layers.BatchNormalization()(x)\n",
        "  x = keras.activations.relu(x)\n",
        "  x = layers.Conv2D(\n",
        "      128,3,padding='same',kernel_regularizer=regularizers.l2(0.01),\n",
        "      )(x)\n",
        "  x = layers.BatchNormalization()(x)\n",
        "  x = keras.activations.relu(x)\n",
        "  x = layers.Flatten()(x)\n",
        "  x = layers.Dense(\n",
        "      64,activation='relu',kernel_regularizer=regularizers.l2(0.01),\n",
        "      )(x)\n",
        "  x = layers.Dropout(0.5)(x)     # adding dropouts\n",
        "  outputs = layers.Dense(10)(x)\n",
        "  model = keras.Model(inputs=inputs,outputs=outputs)\n",
        "  return model"
      ],
      "metadata": {
        "id": "FO2I4taRnPuI"
      },
      "execution_count": 12,
      "outputs": []
    },
    {
      "cell_type": "code",
      "source": [
        "model = my_model()"
      ],
      "metadata": {
        "id": "mq0Rf3q_otTY"
      },
      "execution_count": 13,
      "outputs": []
    },
    {
      "cell_type": "code",
      "source": [
        "model.compile(\n",
        "    loss = keras.losses.SparseCategoricalCrossentropy(from_logits=True),\n",
        "    optimizer=keras.optimizers.Adam(lr=3e-4),\n",
        "    metrics=['accuracy'],\n",
        ")"
      ],
      "metadata": {
        "colab": {
          "base_uri": "https://localhost:8080/"
        },
        "id": "4RYEk7FrovoG",
        "outputId": "b4403d8c-9867-44cd-f264-86e8eddc655a"
      },
      "execution_count": 14,
      "outputs": [
        {
          "output_type": "stream",
          "name": "stderr",
          "text": [
            "/usr/local/lib/python3.7/dist-packages/keras/optimizer_v2/adam.py:105: UserWarning: The `lr` argument is deprecated, use `learning_rate` instead.\n",
            "  super(Adam, self).__init__(name, **kwargs)\n"
          ]
        }
      ]
    },
    {
      "cell_type": "code",
      "source": [
        "model.fit(x_train,y_train,batch_size=64,epochs=10,verbose=2)"
      ],
      "metadata": {
        "colab": {
          "base_uri": "https://localhost:8080/"
        },
        "id": "ETqls19KoyI7",
        "outputId": "c13d27db-2812-496d-e467-33c4799018c9"
      },
      "execution_count": 15,
      "outputs": [
        {
          "output_type": "stream",
          "name": "stdout",
          "text": [
            "Epoch 1/10\n",
            "782/782 - 20s - loss: 3.0595 - accuracy: 0.2119 - 20s/epoch - 26ms/step\n",
            "Epoch 2/10\n",
            "782/782 - 10s - loss: 2.1874 - accuracy: 0.2451 - 10s/epoch - 13ms/step\n",
            "Epoch 3/10\n",
            "782/782 - 10s - loss: 2.0428 - accuracy: 0.2526 - 10s/epoch - 13ms/step\n",
            "Epoch 4/10\n",
            "782/782 - 10s - loss: 1.9898 - accuracy: 0.2615 - 10s/epoch - 13ms/step\n",
            "Epoch 5/10\n",
            "782/782 - 10s - loss: 1.9315 - accuracy: 0.2779 - 10s/epoch - 13ms/step\n",
            "Epoch 6/10\n",
            "782/782 - 10s - loss: 1.9057 - accuracy: 0.2809 - 10s/epoch - 13ms/step\n",
            "Epoch 7/10\n",
            "782/782 - 10s - loss: 1.8765 - accuracy: 0.2923 - 10s/epoch - 13ms/step\n",
            "Epoch 8/10\n",
            "782/782 - 10s - loss: 1.8647 - accuracy: 0.2994 - 10s/epoch - 13ms/step\n",
            "Epoch 9/10\n",
            "782/782 - 10s - loss: 1.8506 - accuracy: 0.3023 - 10s/epoch - 13ms/step\n",
            "Epoch 10/10\n",
            "782/782 - 10s - loss: 1.8348 - accuracy: 0.3032 - 10s/epoch - 13ms/step\n"
          ]
        },
        {
          "output_type": "execute_result",
          "data": {
            "text/plain": [
              "<keras.callbacks.History at 0x7fd240508990>"
            ]
          },
          "metadata": {},
          "execution_count": 15
        }
      ]
    },
    {
      "cell_type": "code",
      "source": [
        "model.evaluate(x_test,y_test,batch_size=64,verbose=2)"
      ],
      "metadata": {
        "colab": {
          "base_uri": "https://localhost:8080/"
        },
        "id": "wEaLazpxqFXJ",
        "outputId": "327634de-b8dd-4a6d-d5c3-5d4c0f8bd772"
      },
      "execution_count": 16,
      "outputs": [
        {
          "output_type": "stream",
          "name": "stdout",
          "text": [
            "157/157 - 1s - loss: 1.7885 - accuracy: 0.3308 - 1s/epoch - 9ms/step\n"
          ]
        },
        {
          "output_type": "execute_result",
          "data": {
            "text/plain": [
              "[1.7884695529937744, 0.33079999685287476]"
            ]
          },
          "metadata": {},
          "execution_count": 16
        }
      ]
    },
    {
      "cell_type": "code",
      "source": [
        ""
      ],
      "metadata": {
        "id": "gchh0KuFqFwg"
      },
      "execution_count": null,
      "outputs": []
    }
  ]
}