{
  "nbformat": 4,
  "nbformat_minor": 0,
  "metadata": {
    "colab": {
      "name": "model_subclassing.ipynb",
      "provenance": [],
      "collapsed_sections": []
    },
    "kernelspec": {
      "name": "python3",
      "display_name": "Python 3"
    },
    "language_info": {
      "name": "python"
    },
    "accelerator": "GPU"
  },
  "cells": [
    {
      "cell_type": "code",
      "execution_count": 28,
      "metadata": {
        "id": "DJW7CKV3zUfA"
      },
      "outputs": [],
      "source": [
        "import tensorflow as tf\n",
        "from tensorflow import keras\n",
        "from tensorflow.keras import layers\n",
        "from tensorflow.keras.datasets import mnist\n",
        "\n"
      ]
    },
    {
      "cell_type": "code",
      "source": [
        "(x_train,y_train),(x_test,y_test) = mnist.load_data()\n",
        "x_train = x_train.reshape(-1,28,28,1).astype(\"float32\") / 255.0\n",
        "x_test = x_test.reshape(-1,28,28,1).astype(\"float32\") / 255.0"
      ],
      "metadata": {
        "id": "YXTmenCuz4K4"
      },
      "execution_count": 29,
      "outputs": []
    },
    {
      "cell_type": "code",
      "source": [
        "class CNNBlock(layers.Layer):\n",
        "  def __init__(self, out_channels, kernel_size=3):\n",
        "    super(CNNBlock, self).__init__()\n",
        "    self.conv = layers.Conv2D(out_channels, kernel_size, padding='same')\n",
        "    self.bn = layers.BatchNormalization()\n",
        "\n",
        "  def call(self,input_tensor,training=False):\n",
        "   x = self.conv(input_tensor)\n",
        "   x = self.bn(x,training=training)\n",
        "   x = tf.nn.relu(x)\n",
        "   return x   "
      ],
      "metadata": {
        "id": "HOR_RPQI1JDk"
      },
      "execution_count": 30,
      "outputs": []
    },
    {
      "cell_type": "code",
      "source": [
        "model = keras.Sequential(\n",
        "   [\n",
        "     CNNBlock(32),\n",
        "     CNNBlock(64),\n",
        "     CNNBlock(128),\n",
        "     layers.Flatten(),\n",
        "     layers.Dense(10),\n",
        "  ]\n",
        ")"
      ],
      "metadata": {
        "id": "K1-FQrzR2-Sp"
      },
      "execution_count": 31,
      "outputs": []
    },
    {
      "cell_type": "code",
      "source": [
        "model.compile(\n",
        "    optimizer=keras.optimizers.Adam(),\n",
        "    loss=keras.losses.SparseCategoricalCrossentropy(from_logits=True),\n",
        "    metrics=[\"accuracy\"]\n",
        ")"
      ],
      "metadata": {
        "id": "hADvch-73dnS"
      },
      "execution_count": 32,
      "outputs": []
    },
    {
      "cell_type": "code",
      "source": [
        "model.fit(x_train,y_train,batch_size=64,epochs=1,verbose=2)"
      ],
      "metadata": {
        "colab": {
          "base_uri": "https://localhost:8080/"
        },
        "id": "OeRG6ulZ3yMd",
        "outputId": "d7d8a2e9-056a-4f98-ae0d-80043969c5af"
      },
      "execution_count": 33,
      "outputs": [
        {
          "output_type": "stream",
          "name": "stdout",
          "text": [
            "938/938 - 24s - loss: 0.5077 - accuracy: 0.9492 - 24s/epoch - 25ms/step\n"
          ]
        },
        {
          "output_type": "execute_result",
          "data": {
            "text/plain": [
              "<keras.callbacks.History at 0x7f95f7542cd0>"
            ]
          },
          "metadata": {},
          "execution_count": 33
        }
      ]
    },
    {
      "cell_type": "code",
      "source": [
        "model.summary()"
      ],
      "metadata": {
        "colab": {
          "base_uri": "https://localhost:8080/"
        },
        "id": "40jfHEZc9hMn",
        "outputId": "faacbed1-aee3-428b-cb7c-11e36db6ef54"
      },
      "execution_count": 34,
      "outputs": [
        {
          "output_type": "stream",
          "name": "stdout",
          "text": [
            "Model: \"sequential_2\"\n",
            "_________________________________________________________________\n",
            " Layer (type)                Output Shape              Param #   \n",
            "=================================================================\n",
            " cnn_block_33 (CNNBlock)     (None, 28, 28, 32)        448       \n",
            "                                                                 \n",
            " cnn_block_34 (CNNBlock)     (None, 28, 28, 64)        18752     \n",
            "                                                                 \n",
            " cnn_block_35 (CNNBlock)     (None, 28, 28, 128)       74368     \n",
            "                                                                 \n",
            " flatten_2 (Flatten)         (None, 100352)            0         \n",
            "                                                                 \n",
            " dense_5 (Dense)             (None, 10)                1003530   \n",
            "                                                                 \n",
            "=================================================================\n",
            "Total params: 1,097,098\n",
            "Trainable params: 1,096,650\n",
            "Non-trainable params: 448\n",
            "_________________________________________________________________\n"
          ]
        }
      ]
    },
    {
      "cell_type": "code",
      "source": [
        "model.evaluate(x_test,y_test,batch_size=64,verbose=2)"
      ],
      "metadata": {
        "colab": {
          "base_uri": "https://localhost:8080/"
        },
        "id": "A5GHtD5a39HL",
        "outputId": "f9db35bc-67b1-4cbd-97b6-b3068159e45e"
      },
      "execution_count": 35,
      "outputs": [
        {
          "output_type": "stream",
          "name": "stdout",
          "text": [
            "157/157 - 2s - loss: 0.1032 - accuracy: 0.9840 - 2s/epoch - 10ms/step\n"
          ]
        },
        {
          "output_type": "execute_result",
          "data": {
            "text/plain": [
              "[0.10324744880199432, 0.984000027179718]"
            ]
          },
          "metadata": {},
          "execution_count": 35
        }
      ]
    }
  ]
}